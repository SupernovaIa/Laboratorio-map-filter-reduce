{
 "cells": [
  {
   "cell_type": "markdown",
   "metadata": {},
   "source": [
    "\n",
    "<div style=\"text-align: center;\">\n",
    "  <img src=\"https://github.com/Hack-io-Data/Imagenes/blob/main/01-LogosHackio/logo_celeste@4x.png?raw=true\" alt=\"esquema\" />\n",
    "</div>\n"
   ]
  },
  {
   "cell_type": "markdown",
   "metadata": {},
   "source": [
    "# Laboratorio de Python: map(), filter() y reduce()"
   ]
  },
  {
   "cell_type": "markdown",
   "metadata": {},
   "source": [
    "## Ejercicio 1. map ()"
   ]
  },
  {
   "cell_type": "markdown",
   "metadata": {},
   "source": [
    "1.1. Dada una lista de números, obtén una nueva lista con el doble de cada valor.\n",
    "\n",
    "1.2. Genera una función que al recibir una frase devuelva una lista con la longitud de cada palabra. Nota: también se puede solucionar con una `lambda`. \n",
    "\n",
    "1.3. Genera una función que convierta una lista de tuplas a una lista de strings, por ejemplo: \n",
    "\n",
    "```python\n",
    "lista_de_tuplas = [(\"Juan\", \"Pérez\"),(\"María\", \"García\"),(\"Luis\", \"Martínez\"),(\"Ana\", \"López\"),(\"Carlos\", \"Sánchez\"),(\"Elena\", \"Fernández\"),(\"Miguel\", \"González\")]\n",
    "\n",
    "\n",
    "# output esperado\n",
    "['Juan Pérez',\n",
    "'María García',\n",
    "'Luis Martínez',\n",
    "'Ana López',\n",
    "'Carlos Sánchez',\n",
    "'Elena Fernández',\n",
    "'Miguel González']\n",
    "```\n",
    "\n",
    "1.4. Crea una función que calcule la diferencia entre los valores correspondientes de dos listas. Debrás restar los elementos de las dos listas, devolviendo una nueva lista con las diferencias. Por ejemplo: \n",
    "\n",
    "```python\n",
    "# input\n",
    "numeros = [4, 8, 15, 16, 23, 42]\n",
    "numeros_2 = [5, 12, 37, 8, 23, 45]\n",
    "\n",
    "# output\n",
    "[1, 4, 22, -8, 0, 3]\n",
    "```\n",
    "\n",
    "1.5. Genera una función la cual, para un conjunto de caracteres, devuelva una lista de tuplas con cada letra en mayúsculas y minúsculas. Importante, no puede haber dos tuplas que contengan las mismas letras. Ejemplo:\n",
    "\n",
    "```python\n",
    "conjunto_caracteres = {'a', 'b', 'E', 'f', 'a', 'i', 'o', 'U', 'a'}\n",
    "\n",
    "# output\n",
    "{('A', 'a'),\n",
    " ('B', 'b'),\n",
    " ('E', 'e'),\n",
    " ('F', 'f'),\n",
    " ('I', 'i'),\n",
    " ('O', 'o'),\n",
    " ('U', 'u')}\n",
    "```\n",
    "\n",
    " "
   ]
  },
  {
   "cell_type": "markdown",
   "metadata": {},
   "source": [
    "---"
   ]
  },
  {
   "cell_type": "markdown",
   "metadata": {},
   "source": [
    "Dada una lista de números, obtén una nueva lista con el doble de cada valor."
   ]
  },
  {
   "cell_type": "code",
   "execution_count": 2,
   "metadata": {},
   "outputs": [
    {
     "name": "stdout",
     "output_type": "stream",
     "text": [
      "[-8, 1, -8, 3, -1, -7, -8, -3, -2, 10]\n",
      "[-16, 2, -16, 6, -2, -14, -16, -6, -4, 20]\n"
     ]
    }
   ],
   "source": [
    "import random\n",
    "\n",
    "# Genera una lista de 10 números enteros aleatorios entre -10 y 10\n",
    "lista_numeros = [random.randint(-10, 10) for _ in range(10)]\n",
    "print(lista_numeros)\n",
    "\n",
    "# Generamos la lista con los dobles\n",
    "nueva_lista = list(map(lambda x: x * 2, lista_numeros))\n",
    "print(nueva_lista)"
   ]
  },
  {
   "cell_type": "markdown",
   "metadata": {},
   "source": [
    "Genera una función que al recibir una frase devuelva una lista con la longitud de cada palabra."
   ]
  },
  {
   "cell_type": "code",
   "execution_count": 4,
   "metadata": {},
   "outputs": [
    {
     "name": "stdout",
     "output_type": "stream",
     "text": [
      "[3, 1, 7, 3, 4, 6, 5, 1, 6, 5]\n",
      "[1, 4, 3]\n",
      "[7, 2, 6, 4, 7, 4, 11]\n",
      "[2, 10, 2, 11, 4, 2, 3, 7, 5, 3, 2]\n"
     ]
    }
   ],
   "source": [
    "def longitud_palabras(frase: str):\n",
    "    \"\"\"\n",
    "    Toma una cadena de caracteres y cuenta la longitud de las palabras que la conforman y devuelve una lista con esta información.\n",
    "\n",
    "    Parámetros: \n",
    "    frase (str): Frase a separar y contar.\n",
    "\n",
    "    Devuelve:\n",
    "    list: Lista de valores enteros con la longitud de cada palabra.\n",
    "    \"\"\"\n",
    "\n",
    "    # Definimos los signos de puntuación que eliminamos para no contarlos en la longitud de las palabras\n",
    "    signos_de_puntuacion = \".,!?¿¡;:-()[]{}\\\"'\"\n",
    "\n",
    "    # Eliminamos los signos de puntuación\n",
    "    frase = ''.join([char for char in frase if char not in signos_de_puntuacion])\n",
    "    return list(map(len, frase.split()))\n",
    "\n",
    "# Pruebas\n",
    "print(longitud_palabras(\"Ana y Jeancha son unos cracks. Jaime y Silvia igual.\"))\n",
    "print(longitud_palabras(\"k pasa bro?\"))\n",
    "print(longitud_palabras(\"Estamos en Hack(io) Data Science Alto Rendimiento.\"))\n",
    "print(longitud_palabras(\"Te prometemos 10 entrevistas, pero no las podemos hacer por ti.\"))"
   ]
  },
  {
   "cell_type": "markdown",
   "metadata": {},
   "source": [
    "Genera una función que convierta una lista de tuplas a una lista de strings"
   ]
  },
  {
   "cell_type": "code",
   "execution_count": 58,
   "metadata": {},
   "outputs": [
    {
     "name": "stdout",
     "output_type": "stream",
     "text": [
      "['Juan Pérez', 'María García', 'Luis Martínez', 'Ana López', 'Carlos Sánchez', 'Elena Fernández', 'Miguel González']\n",
      "La lista proporcionada no es adecuada\n"
     ]
    }
   ],
   "source": [
    "lista_de_tuplas = [(\"Juan\", \"Pérez\"),\n",
    "                   (\"María\", \"García\"),\n",
    "                   (\"Luis\", \"Martínez\"),\n",
    "                   (\"Ana\", \"López\"),\n",
    "                   (\"Carlos\", \"Sánchez\"),\n",
    "                   (\"Elena\", \"Fernández\"),\n",
    "                   (\"Miguel\", \"González\")]\n",
    "\n",
    "\n",
    "def tup2str(tuplist):\n",
    "    \"\"\"\n",
    "    Esta función toma una lista de tuplas con 2 strings y devuelve una lista de strings resultantes de la concatenación de los elementos de cada tupla.\n",
    "    \n",
    "    Parámetros:\n",
    "    tuplist (list): Lista de tuplas\n",
    "\n",
    "    Devuelve:\n",
    "    list: Lista de strings concatenadas\n",
    "    \n",
    "    \"\"\"\n",
    "\n",
    "    try:\n",
    "        return list(map(lambda elemento: elemento[0] + \" \" + elemento[1], tuplist))\n",
    "    except:\n",
    "        return \"La lista proporcionada no es adecuada\"\n",
    "    \n",
    "\n",
    "print(tup2str(lista_de_tuplas))\n",
    "print(tup2str([(8, 0), (3, 4)]))"
   ]
  },
  {
   "cell_type": "code",
   "execution_count": 63,
   "metadata": {},
   "outputs": [
    {
     "name": "stdout",
     "output_type": "stream",
     "text": [
      "Lista de tuplas ['Juan Pérez', 'María García', 'Luis Martínez', 'Ana López', 'Carlos Sánchez', 'Elena Fernández', 'Miguel González']\n",
      "Elementos de tipo que no sea string La lista de tuplas solo debe contener strings\n",
      "Lista de listas ['Jeancha Yamada', 'Ana García']\n",
      "Demasiados elementos a desempaquetar. La lista debe contener elementos iterables con 2 elementos\n"
     ]
    }
   ],
   "source": [
    "# Otra forma\n",
    "lista_de_tuplas = [(\"Juan\", \"Pérez\"),\n",
    "                   (\"María\", \"García\"),\n",
    "                   (\"Luis\", \"Martínez\"),\n",
    "                   (\"Ana\", \"López\"),\n",
    "                   (\"Carlos\", \"Sánchez\"),\n",
    "                   (\"Elena\", \"Fernández\"),\n",
    "                   (\"Miguel\", \"González\")]\n",
    "\n",
    "def tup2str(tuplist):\n",
    "    \"\"\"\n",
    "    Esta función toma una lista de tuplas con 2 strings y devuelve una lista de strings resultantes de la concatenación de los elementos de cada tupla.\n",
    "    \n",
    "    Parámetros:\n",
    "    tuplist (list): Lista de tuplas\n",
    "\n",
    "    Devuelve:\n",
    "    list: Lista de strings concatenadas\n",
    "    \n",
    "    \"\"\"\n",
    "\n",
    "    try:\n",
    "        # Utilizo zip(*lista) para descomprimir la lista de tuplas\n",
    "        item1, item2 = zip(*tuplist)\n",
    "    except ValueError:\n",
    "        return \"La lista debe contener elementos iterables con 2 elementos\"\n",
    "\n",
    "    try:\n",
    "        # Concatenación de strings\n",
    "        return [item1[i] + \" \" + item2[i] for i in range(len(tuplist))]\n",
    "    except TypeError:\n",
    "        return \"La lista de tuplas solo debe contener strings\"\n",
    "\n",
    "print(\"Lista de tuplas\", tup2str(lista_de_tuplas))\n",
    "print(\"Elementos de tipo que no sea string\", tup2str([(3, 4), (5, 2)]))\n",
    "print(\"Lista de listas\", tup2str([[\"Jeancha\", \"Yamada\"], [\"Ana\", \"García\"]]))\n",
    "print(\"Demasiados elementos a desempaquetar.\", tup2str([[\"Jeancha\", \"Yamada\", \"Yamada\"], [\"Ana\", \"García\", \"García\"]]))"
   ]
  },
  {
   "cell_type": "markdown",
   "metadata": {},
   "source": [
    "Crea una función que calcule la diferencia entre los valores correspondientes de dos listas. Debrás restar los elementos de las dos listas, devolviendo una nueva lista con las diferencias.\n"
   ]
  },
  {
   "cell_type": "code",
   "execution_count": 66,
   "metadata": {},
   "outputs": [
    {
     "data": {
      "text/plain": [
       "[1, 4, 22, -8, 0, 3]"
      ]
     },
     "execution_count": 66,
     "metadata": {},
     "output_type": "execute_result"
    }
   ],
   "source": [
    "numeros = [4, 8, 15, 16, 23, 42]\n",
    "numeros_2 = [5, 12, 37, 8, 23, 45]\n",
    "\n",
    "def sustraccion(n1, n2):\n",
    "    \"\"\"\n",
    "    Realiza la resta elemento a elemento entre dos listas.\n",
    "\n",
    "    Parámetros:\n",
    "    n1 (list): Primera lista de números.\n",
    "    n2 (list): Segunda lista de números.\n",
    "\n",
    "    Devuelve:\n",
    "    list: Una lista con el resultado de restar cada elemento de la primera lista al elemento correspondiente de la segunda lista.\n",
    "    \"\"\"\n",
    "    \n",
    "    return list(map(lambda x, y: y - x, n1, n2))\n",
    "\n",
    "sustraccion(numeros, numeros_2)"
   ]
  },
  {
   "cell_type": "markdown",
   "metadata": {},
   "source": [
    "Genera una función la cual, para un conjunto de caracteres, devuelva una lista de tuplas con cada letra en mayúsculas y minúsculas. Importante, no puede haber dos tuplas que contengan las mismas letras."
   ]
  },
  {
   "cell_type": "code",
   "execution_count": 89,
   "metadata": {},
   "outputs": [
    {
     "data": {
      "text/plain": [
       "[('a', 'A'),\n",
       " ('b', 'B'),\n",
       " ('e', 'E'),\n",
       " ('f', 'F'),\n",
       " ('i', 'I'),\n",
       " ('o', 'O'),\n",
       " ('u', 'U')]"
      ]
     },
     "execution_count": 89,
     "metadata": {},
     "output_type": "execute_result"
    }
   ],
   "source": [
    "conjunto_caracteres = ['a', 'b', 'E', 'f', 'a', 'i', 'o', 'U', 'a']\n",
    "\n",
    "def letras(lista_letras):\n",
    "    \"\"\"\n",
    "    Convierte una lista de letras en pares de minúsculas y mayúsculas, eliminando duplicados y ordenando los resultados.\n",
    "\n",
    "    Parámetros:\n",
    "    lista_letras (list): Lista de caracteres.\n",
    "\n",
    "    Devuelve:\n",
    "    list: Lista ordenada de tuplas, cada una con la versión minúscula y mayúscula de cada carácter, sin duplicados.\n",
    "    \"\"\"\n",
    "    \n",
    "    resultado = list(set(map(lambda char: (char.lower(), char.upper()), lista_letras)))\n",
    "    resultado.sort()\n",
    "    return resultado\n",
    "\n",
    "letras(conjunto_caracteres)\n"
   ]
  },
  {
   "cell_type": "markdown",
   "metadata": {},
   "source": [
    "## Ejercicio 2. Filter ()"
   ]
  },
  {
   "cell_type": "markdown",
   "metadata": {},
   "source": [
    "2.1. Crea una función que devuelva las palabras de una lista que comienzan con una letra específica. Por ejemplo:\n",
    "\n",
    "```python\n",
    "# input\n",
    "frase = 'Incluso la persona más pequeña puede cambiar el curso del futuro.'\n",
    "letra = 'p'\n",
    "\n",
    "# output\n",
    "['persona', 'pequeña', 'puede']\n",
    "```\n",
    "\n",
    "2.2. Para una lista con elementos tipo *integer* y *string*, obtén una nueva lista sólo con los valores de tipo *integer*.\n",
    "\n",
    "2.3. Escribe una función que tome una lista de nombres de mascotas como parámetro y devuelva una nueva lista excluyendo ciertas mascotas prohibidas en España. La lista de mascotas a excluir es [\"Mapache\", \"Tigre\", \"Serpiente Pitón\", \"Cocodrilo\", \"Oso\"].\n",
    "\n",
    "```python\n",
    "#input\n",
    "mascotas = ['Perro', 'Tigre', 'Gato', 'Oso', 'Erizo']\n",
    "\n",
    "# output\n",
    "['Perro', 'Gato', 'Erizo']\n",
    "```\n",
    "2.4. Escribe un programa en Python que cree una lista de diccionarios que contenga información de estudiantes (nombre, edad, calificación) y use la función filter para extraer a los estudiantes con una calificación mayor o igual a 90."
   ]
  },
  {
   "cell_type": "markdown",
   "metadata": {},
   "source": [
    "---"
   ]
  },
  {
   "cell_type": "markdown",
   "metadata": {},
   "source": [
    "Crea una función que devuelva las palabras de una lista que comienzan con una letra específica."
   ]
  },
  {
   "cell_type": "code",
   "execution_count": 107,
   "metadata": {},
   "outputs": [
    {
     "data": {
      "text/plain": [
       "['Persona', 'Pequeña', 'Puede']"
      ]
     },
     "execution_count": 107,
     "metadata": {},
     "output_type": "execute_result"
    }
   ],
   "source": [
    "frase = 'Incluso la persona más pequeña puede cambiar el curso del futuro.'\n",
    "letra = 'p'\n",
    "\n",
    "def letra_inicial(cadena_frase, cadena_letra):\n",
    "    \"\"\"\n",
    "    Filtra las palabras de una frase que comienzan con una letra específica.\n",
    "\n",
    "    Parámetros:\n",
    "    cadena_frase (str): Frase compuesta por varias palabras.\n",
    "    cadena_letra (str): Letra por la que deben comenzar las palabras.\n",
    "\n",
    "    Devuelve:\n",
    "    list: Lista de palabras que comienzan con la letra especificada.\n",
    "    \"\"\"\n",
    "\n",
    "    # Hacemos que las palabras y la letra se capitalicen para evitar problemas de mayúsculas\n",
    "    return list(filter(lambda x: x.startswith(cadena_letra.upper()), cadena_frase.title().split()))\n",
    "\n",
    "letra_inicial(frase, letra)"
   ]
  },
  {
   "cell_type": "markdown",
   "metadata": {},
   "source": [
    "Para una lista con elementos tipo *integer* y *string*, obtén una nueva lista sólo con los valores de tipo *integer*."
   ]
  },
  {
   "cell_type": "code",
   "execution_count": 109,
   "metadata": {},
   "outputs": [
    {
     "data": {
      "text/plain": [
       "[3, 4, 5, 10, 33]"
      ]
     },
     "execution_count": 109,
     "metadata": {},
     "output_type": "execute_result"
    }
   ],
   "source": [
    "elementos = [3, 4, 5, \"Hola\", \"Jaime\", \"Jauma\", 10, 33, \"Silvia\"]\n",
    "\n",
    "def filtro_enteros(lista):\n",
    "    \"\"\"\n",
    "    Filtra y devuelve solo los elementos enteros de una lista.\n",
    "\n",
    "    Parámetros:\n",
    "    lista (list): Lista con elementos de diferentes tipos.\n",
    "\n",
    "    Devuelve:\n",
    "    list: Lista que contiene solo los elementos que son enteros.\n",
    "    \"\"\"\n",
    "\n",
    "    # Filtramos los elementos por el tipo de dato en la lista\n",
    "    return list(filter(lambda x: type(x) == int, lista))\n",
    "\n",
    "filtro_enteros(elementos)"
   ]
  },
  {
   "cell_type": "markdown",
   "metadata": {},
   "source": [
    "Escribe una función que tome una lista de nombres de mascotas como parámetro y devuelva una nueva lista excluyendo ciertas mascotas prohibidas en España. La lista de mascotas a excluir es [\"Mapache\", \"Tigre\", \"Serpiente Pitón\", \"Cocodrilo\", \"Oso\"]."
   ]
  },
  {
   "cell_type": "code",
   "execution_count": 114,
   "metadata": {},
   "outputs": [
    {
     "name": "stdout",
     "output_type": "stream",
     "text": [
      "['Perro', 'Gato', 'Conejo', 'Hámster', 'Loro', 'Iguana', 'Chinchilla']\n",
      "['Perro', 'Gato', 'Erizo']\n"
     ]
    }
   ],
   "source": [
    "mascotas = [\"Perro\", \n",
    "            \"Gato\", \n",
    "            \"Mapache\", \n",
    "            \"Conejo\", \n",
    "            \"Tigre\", \n",
    "            \"Serpiente Pitón\", \n",
    "            \"Cocodrilo\", \n",
    "            \"Oso\", \n",
    "            \"Hámster\", \n",
    "            \"Loro\", \n",
    "            \"Iguana\", \n",
    "            \"Chinchilla\"]\n",
    "\n",
    "def mascotas_permitidas(lista_mascotas):\n",
    "    \"\"\"\n",
    "    Filtra y devuelve una lista de mascotas permitidas, excluyendo las prohibidas.\n",
    "\n",
    "    Parámetros:\n",
    "    lista_mascotas (list): Lista de nombres de mascotas.\n",
    "\n",
    "    Devuelve:\n",
    "    list: Lista con los nombres de las mascotas permitidas, excluyendo las prohibidas.\n",
    "    \"\"\"\n",
    "\n",
    "    # Definimos la lista de mascotas prohibidas\n",
    "    lista_prohibidas = [\"Mapache\", \"Tigre\", \"Serpiente Pitón\", \"Cocodrilo\", \"Oso\"]\n",
    "    # Filtramos en función de si se encuentran en la lista de prohibiciones\n",
    "    return list(filter(lambda x: x not in lista_prohibidas, lista_mascotas))\n",
    "\n",
    "print(mascotas_permitidas(mascotas))\n",
    "\n",
    "print(mascotas_permitidas(['Perro', 'Tigre', 'Gato', 'Oso', 'Erizo']))"
   ]
  },
  {
   "cell_type": "markdown",
   "metadata": {},
   "source": [
    "Escribe un programa en Python que cree una lista de diccionarios que contenga información de estudiantes (nombre, edad, calificación) y use la función filter para extraer a los estudiantes con una calificación mayor o igual a 90."
   ]
  },
  {
   "cell_type": "code",
   "execution_count": 117,
   "metadata": {},
   "outputs": [
    {
     "data": {
      "text/plain": [
       "[{'nombre': 'Luis', 'edad': 22, 'calificación': 90},\n",
       " {'nombre': 'Carlos', 'edad': 21, 'calificación': 92}]"
      ]
     },
     "execution_count": 117,
     "metadata": {},
     "output_type": "execute_result"
    }
   ],
   "source": [
    "info_estudiantes = [\n",
    "    {\"nombre\": \"Ana\", \"edad\": 20, \"calificación\": 85},\n",
    "    {\"nombre\": \"Luis\", \"edad\": 22, \"calificación\": 90},\n",
    "    {\"nombre\": \"Sofía\", \"edad\": 19, \"calificación\": 88},\n",
    "    {\"nombre\": \"Carlos\", \"edad\": 21, \"calificación\": 92},\n",
    "    {\"nombre\": \"María\", \"edad\": 23, \"calificación\": 78}\n",
    "]\n",
    "\n",
    "def estudiantes_sobresalientes(lista_estudiantes):\n",
    "    \"\"\"\n",
    "    Filtra y devuelve una lista de estudiantes con una calificación mayor o igual a 90.\n",
    "\n",
    "    Parámetros:\n",
    "    lista_estudiantes (list): Lista de diccionarios que contienen información de los estudiantes, incluyendo la clave \"calificación\".\n",
    "\n",
    "    Devuelve:\n",
    "    list: Lista de diccionarios de estudiantes cuya calificación es igual o superior a 90.\n",
    "    \"\"\"\n",
    "\n",
    "    # Filtramos según el valor de la clave \"calificación\"\n",
    "    return list(filter(lambda x: x[\"calificación\"] >= 90, lista_estudiantes))\n",
    "\n",
    "estudiantes_sobresalientes(info_estudiantes)\n"
   ]
  },
  {
   "cell_type": "markdown",
   "metadata": {},
   "source": [
    "## Ejercicio 3. Reduce ()"
   ]
  },
  {
   "cell_type": "markdown",
   "metadata": {},
   "source": [
    "3.1 Crea una función que tome una lista de dígitos y devuelva el número correspondiente. Por ejemplo, [5,7,2] corresponde al número quinientos setenta y dos (572).\n",
    "\n",
    "3.2. Dada una lista de números enteros, obtén el producto total de los valores de dicha lista\n",
    "\n",
    "3.3. Concatena una lista de palabras. Por ejemplo:\n",
    "\n",
    "```python\n",
    "# input\n",
    "lista_int_str = ['Un', 'mago', 'nunca']\n",
    "\n",
    "# output\n",
    "'Unmagonunca'\n",
    "```\n",
    "\n",
    "3.4. Calcula la diferencia total en los valores de una lista, es decir, crea un programa que vaya restando todos sus elementos.\n"
   ]
  },
  {
   "cell_type": "markdown",
   "metadata": {},
   "source": [
    "---"
   ]
  },
  {
   "cell_type": "markdown",
   "metadata": {},
   "source": [
    "Crea una función que tome una lista de dígitos y devuelva el número correspondiente. Por ejemplo, [5,7,2] corresponde al número quinientos setenta y dos (572)."
   ]
  },
  {
   "cell_type": "code",
   "execution_count": 192,
   "metadata": {},
   "outputs": [
    {
     "name": "stdout",
     "output_type": "stream",
     "text": [
      "[6, 0, 9, 2, 4, 8, 6]\n",
      "6092486\n"
     ]
    }
   ],
   "source": [
    "from functools import reduce\n",
    "import random\n",
    "\n",
    "# Genera una lista de n dígitos, donde n es un número aleatorio entre 2 y 9\n",
    "digitos = [random.randint(0, 9) for _ in range(random.randint(2, 9))]\n",
    "print(digitos)\n",
    "\n",
    "def valor(lista_digitos):\n",
    "    \"\"\"\n",
    "    Convierte una lista de dígitos en su valor numérico entero.\n",
    "\n",
    "    Parámetros:\n",
    "    lista_digitos (list): Lista de dígitos (números enteros).\n",
    "\n",
    "    Devuelve:\n",
    "    int: Número entero formado por la concatenación de los dígitos en la lista.\n",
    "    \"\"\"\n",
    "\n",
    "    return int(reduce(lambda x, y: str(x) + str(y), lista_digitos))\n",
    "\n",
    "print(valor(digitos))"
   ]
  },
  {
   "cell_type": "markdown",
   "metadata": {},
   "source": [
    "Dada una lista de números enteros, obtén el producto total de los valores de dicha lista"
   ]
  },
  {
   "cell_type": "code",
   "execution_count": 229,
   "metadata": {},
   "outputs": [
    {
     "name": "stdout",
     "output_type": "stream",
     "text": [
      "Valores: [4, 6]\n",
      "24\n",
      "40.92000000000001\n",
      "Tipo de datos incorrecto\n"
     ]
    }
   ],
   "source": [
    "from functools import reduce\n",
    "import random\n",
    "\n",
    "# Genera una lista de n valores entre 0 y 10, donde n es un número aleatorio entre 2 y 5\n",
    "valores = [random.randint(0, 10) for _ in range(random.randint(2, 5))]\n",
    "print(\"Valores:\", valores)\n",
    "\n",
    "def prod(lista_valores):\n",
    "    \"\"\"\n",
    "    Calcula el producto de todos los elementos en una lista.\n",
    "\n",
    "    Parámetros:\n",
    "    lista_valores (list): Lista de valores numéricos.\n",
    "\n",
    "    Devuelve:\n",
    "    int o float: El producto de todos los valores en la lista.\n",
    "    \"\"\"\n",
    "    \n",
    "    try:\n",
    "        return reduce(lambda x, y: x * y, lista_valores)\n",
    "    \n",
    "    except TypeError:\n",
    "        return \"Tipo de datos incorrecto\"\n",
    "\n",
    "print(prod(valores))\n",
    "print(prod([9.3, 4, 1.1]))\n",
    "print(prod([\"hola\", 9, \"pepe\"]))"
   ]
  },
  {
   "cell_type": "markdown",
   "metadata": {},
   "source": [
    "Concatena una lista de palabras."
   ]
  },
  {
   "cell_type": "code",
   "execution_count": 243,
   "metadata": {},
   "outputs": [
    {
     "name": "stdout",
     "output_type": "stream",
     "text": [
      "EstoesHack(io)DataScience\n",
      "32\n",
      "Tipo de datos incorrecto\n"
     ]
    }
   ],
   "source": [
    "from functools import reduce\n",
    "\n",
    "palabras = [\"Esto\", \"es\", \"Hack(io)\", \"Data\", \"Science\"]\n",
    "\n",
    "def concat(lista_palabras):\n",
    "    \"\"\"\n",
    "    Concatena todas las palabras en una lista en una sola cadena.\n",
    "\n",
    "    Parámetros:\n",
    "    lista_palabras (list): Lista de cadenas de texto.\n",
    "\n",
    "    Devuelve:\n",
    "    str: Cadena resultante de la concatenación de todas las palabras en la lista.\n",
    "    \"\"\"\n",
    "\n",
    "    try:\n",
    "        return reduce(lambda x, y: str(x) + str(y), lista_palabras)\n",
    "    \n",
    "    except TypeError:\n",
    "        return \"Tipo de datos incorrecto\"\n",
    "\n",
    "print(concat(palabras))\n",
    "print(concat([3, 2]))\n",
    "print(concat(0))\n"
   ]
  },
  {
   "cell_type": "markdown",
   "metadata": {},
   "source": [
    "Calcula la diferencia total en los valores de una lista, es decir, crea un programa que vaya restando todos sus elementos."
   ]
  },
  {
   "cell_type": "code",
   "execution_count": 245,
   "metadata": {},
   "outputs": [
    {
     "name": "stdout",
     "output_type": "stream",
     "text": [
      "Valores: [5, 9, 2, 2]\n",
      "-8\n",
      "Tipo de datos incorrecto\n"
     ]
    }
   ],
   "source": [
    "from functools import reduce\n",
    "import random\n",
    "\n",
    "# Genera una lista de n valores entre 0 y 10, donde n es un número aleatorio entre 2 y 5\n",
    "valores = [random.randint(0, 10) for _ in range(random.randint(2, 5))]\n",
    "print(\"Valores:\", valores)\n",
    "\n",
    "def resta(lista_valores):\n",
    "    \"\"\"\n",
    "    Calcula la resta acumulada de los elementos en una lista.\n",
    "\n",
    "    Parámetros:\n",
    "    lista_valores (list): Lista de valores numéricos.\n",
    "\n",
    "    Devuelve:\n",
    "    int o float: Resultado de restar los valores de forma acumulada.\n",
    "    str: Mensaje de error si algún valor tiene un tipo de dato incorrecto.\n",
    "    \"\"\"\n",
    "    \n",
    "    try:\n",
    "        return reduce(lambda x, y: x - y, lista_valores)\n",
    "    \n",
    "    except TypeError:\n",
    "        return \"Tipo de datos incorrecto\"\n",
    "\n",
    "print(resta(valores))\n",
    "print(resta([\"hola\", \"Yancha\"]))"
   ]
  },
  {
   "cell_type": "markdown",
   "metadata": {},
   "source": [
    "## Ejercicio 4. Ejercicios combinando las funciones"
   ]
  },
  {
   "cell_type": "markdown",
   "metadata": {},
   "source": [
    "4.1. Dada una lista de números, filtra los números positivos y calcula su promedio.\n",
    "\n",
    "4.2. Dada una lista de palabras, filtra las palabras que empiezan con una vocal, conviértelas a mayúsculas, y luego concaténalas en una sola cadena. \n",
    "\n",
    "4.3. Dada una lista numérica, filtra los números impares y calcula el producto de todos ellos \n",
    "\n",
    "4.4. Dada una lista de palabras, filtra las que contienen la letra 'a' y cuenta cuántas hay."
   ]
  },
  {
   "cell_type": "markdown",
   "metadata": {},
   "source": [
    "---"
   ]
  },
  {
   "cell_type": "code",
   "execution_count": 253,
   "metadata": {},
   "outputs": [
    {
     "name": "stdout",
     "output_type": "stream",
     "text": [
      "Valores: [-9, -5, 0, 9, -2, -8, 5, -7, -2, 7]\n",
      "5.25\n",
      "Tipo de valor inadecuado\n"
     ]
    }
   ],
   "source": [
    "from functools import reduce\n",
    "import random\n",
    "\n",
    "# Genera una lista de 10 valores entre -10 y 10\n",
    "valores = [random.randint(-10, 10) for _ in range(10)]\n",
    "print(\"Valores:\", valores)\n",
    "\n",
    "def promedio_positivo(lista_valores):\n",
    "    \"\"\"\n",
    "    Calcula el promedio de los valores positivos de una lista.\n",
    "\n",
    "    Parámetros:\n",
    "    lista_valores (list): Lista de valores numéricos.\n",
    "\n",
    "    Devuelve:\n",
    "    float: El promedio de los valores positivos en la lista.\n",
    "    str: Mensaje de error si algún valor tiene un tipo inadecuado.\n",
    "    \"\"\"\n",
    "\n",
    "    try:\n",
    "        positivos = list(filter(lambda x: x >= 0, lista_valores))  # Limpieza de negativos\n",
    "        return (reduce(lambda y, z: y + z, positivos) / len(positivos)) # Cálculo del promedio\n",
    "    \n",
    "    except TypeError:\n",
    "        return \"Tipo de valor inadecuado\"\n",
    "\n",
    "print(promedio_positivo(valores))\n",
    "print(promedio_positivo([\"hola\", 4]))"
   ]
  },
  {
   "cell_type": "markdown",
   "metadata": {},
   "source": [
    "Dada una lista de palabras, filtra las palabras que empiezan con una vocal, conviértelas a mayúsculas, y luego concaténalas en una sola cadena. "
   ]
  },
  {
   "cell_type": "code",
   "execution_count": 262,
   "metadata": {},
   "outputs": [
    {
     "data": {
      "text/plain": [
       "'ANAASTERISCOESQUEMAEDGAR'"
      ]
     },
     "execution_count": 262,
     "metadata": {},
     "output_type": "execute_result"
    }
   ],
   "source": [
    "palabras = [\"hola\", \"Mundo\", \"Yancha\", \"Ana\", \"asterisco\", \"esquema\", \"Edgar\", \"Jacinto José\"]\n",
    "\n",
    "def concat_vocal(lista_palabras):\n",
    "    \"\"\"\n",
    "    Concatena en mayúsculas todas las palabras que comienzan con una vocal en una lista.\n",
    "\n",
    "    Parámetros:\n",
    "    lista_palabras (list): Lista de cadenas de texto.\n",
    "\n",
    "    Devuelve:\n",
    "    str: Cadena resultante de la concatenación en mayúsculas de todas las palabras que comienzan con una vocal.\n",
    "    \"\"\"\n",
    "\n",
    "    vocales = \"AEIOUaeiou\"\n",
    "\n",
    "    # Filtramos las palabras que empiezan por vocal\n",
    "    palabras_vocal = filter(lambda x: any(x.startswith(vocal) for vocal in vocales), palabras)\n",
    "    # Las convertimos en mayúscula\n",
    "    palabras_vocal_mayus = map(lambda x: x.upper(), palabras_vocal)\n",
    "    # Devolvemos la concatenación, la podríamos hacer con reduce pero uso \"\".join()\n",
    "    return \"\".join(palabras_vocal_mayus)\n",
    "\n",
    "concat_vocal(palabras)"
   ]
  },
  {
   "cell_type": "markdown",
   "metadata": {},
   "source": [
    "Dada una lista numérica, filtra los números impares y calcula el producto de todos ellos "
   ]
  },
  {
   "cell_type": "code",
   "execution_count": 275,
   "metadata": {},
   "outputs": [
    {
     "name": "stdout",
     "output_type": "stream",
     "text": [
      "Valores: [7, 8, 9, 8]\n"
     ]
    },
    {
     "data": {
      "text/plain": [
       "63"
      ]
     },
     "execution_count": 275,
     "metadata": {},
     "output_type": "execute_result"
    }
   ],
   "source": [
    "from functools import reduce\n",
    "import random\n",
    "\n",
    "# Genera una lista de 4 valores entre 1 y 10\n",
    "valores = [random.randint(1, 10) for _ in range(4)]\n",
    "print(\"Valores:\", valores)\n",
    "\n",
    "def prod_impar(lista_valores):\n",
    "    \"\"\"\n",
    "    Calcula el producto de todos los valores impares de una lista.\n",
    "\n",
    "    Parámetros:\n",
    "    lista_valores (list): Lista de valores numéricos.\n",
    "\n",
    "    Devuelve:\n",
    "    int o float: El producto de todos los valores impares en la lista.\n",
    "    \"\"\"\n",
    "\n",
    "    # Filtramos los valores impares\n",
    "    valores_impares = filter(lambda x: x % 2 != 0, lista_valores)\n",
    "    # Devolvemos el producto\n",
    "    return reduce(lambda x, y: x * y, valores_impares)\n",
    "\n",
    "prod_impar(valores)"
   ]
  },
  {
   "cell_type": "markdown",
   "metadata": {},
   "source": [
    "Dada una lista de palabras, filtra las que contienen la letra 'a' y cuenta cuántas hay."
   ]
  },
  {
   "cell_type": "code",
   "execution_count": 279,
   "metadata": {},
   "outputs": [
    {
     "name": "stdout",
     "output_type": "stream",
     "text": [
      "(['hola', 'Yancha', 'Ana', 'asterisco', 'esquema', 'Edgar', 'Jacinto José'], 7)\n"
     ]
    }
   ],
   "source": [
    "palabras = [\"hola\", \"Mundo\", \"Yancha\", \"Ana\", \"asterisco\", \"esquema\", \"Edgar\", \"Jacinto José\"]\n",
    "\n",
    "def contar_a(lista_palabras):\n",
    "    \"\"\"\n",
    "    Cuenta y devuelve las palabras que contienen la letra 'a' en una lista.\n",
    "\n",
    "    Parámetros:\n",
    "    lista_palabras (list): Lista de cadenas de texto.\n",
    "\n",
    "    Devuelve:\n",
    "    tuple: Una tupla que contiene una lista de palabras que contienen la letra 'a' y el número total de dichas palabras.\n",
    "    \"\"\"\n",
    "\n",
    "    # Lista de palabras que empiezan con a\n",
    "    palabras_a = list(filter(lambda x: x.count(\"a\") > 0, lista_palabras))\n",
    "    # Contar las palabras y devolver la lista y la cantidad\n",
    "    return palabras_a, len(palabras_a)\n",
    "\n",
    "print(contar_a(palabras))"
   ]
  }
 ],
 "metadata": {
  "kernelspec": {
   "display_name": "base",
   "language": "python",
   "name": "python3"
  },
  "language_info": {
   "codemirror_mode": {
    "name": "ipython",
    "version": 3
   },
   "file_extension": ".py",
   "mimetype": "text/x-python",
   "name": "python",
   "nbconvert_exporter": "python",
   "pygments_lexer": "ipython3",
   "version": "3.12.4"
  }
 },
 "nbformat": 4,
 "nbformat_minor": 2
}
