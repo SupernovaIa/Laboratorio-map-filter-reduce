{
 "cells": [
  {
   "cell_type": "markdown",
   "metadata": {},
   "source": [
    "\n",
    "<div style=\"text-align: center;\">\n",
    "  <img src=\"https://github.com/Hack-io-Data/Imagenes/blob/main/01-LogosHackio/logo_celeste@4x.png?raw=true\" alt=\"esquema\" />\n",
    "</div>\n"
   ]
  },
  {
   "cell_type": "markdown",
   "metadata": {
    "vscode": {
     "languageId": "plaintext"
    }
   },
   "source": [
    "#### Ejercicio 1. Transformar y agregar listas de diccionarios:\n",
    "Dada una lista de diccionarios que representan productos con nombre, precio y cantidad, usa `map` para calcular el costo total de cada producto (precio * cantidad). Luego, usa `reduce` para sumar los costos totales y obtener el gasto total.\n",
    "\n",
    "```python\n",
    "productos = [\n",
    "    {'nombre': 'camisa', 'precio': 50, 'cantidad': 3},\n",
    "    {'nombre': 'pantalon', 'precio': 100, 'cantidad': 2},\n",
    "    {'nombre': 'zapatos', 'precio': 150, 'cantidad': 1}\n",
    "]\n",
    "# Resultado esperado: 150 + 200 + 150 = 500\n",
    "```"
   ]
  },
  {
   "cell_type": "code",
   "execution_count": 7,
   "metadata": {},
   "outputs": [],
   "source": [
    "productos = [\n",
    "    {'nombre': 'camisa', 'precio': 50, 'cantidad': 3},\n",
    "    {'nombre': 'pantalon', 'precio': 100, 'cantidad': 2},\n",
    "    {'nombre': 'zapatos', 'precio': 150, 'cantidad': 1}\n",
    "    ]"
   ]
  },
  {
   "cell_type": "code",
   "execution_count": 8,
   "metadata": {},
   "outputs": [
    {
     "name": "stdout",
     "output_type": "stream",
     "text": [
      "Gasto total: 500\n"
     ]
    }
   ],
   "source": [
    "from functools import reduce\n",
    "\n",
    "costos_totales = list(map(lambda x: x['precio'] * x['cantidad'], productos))\n",
    "\n",
    "print(\"Gasto total:\", reduce(lambda y, z: y + z, costos_totales))"
   ]
  },
  {
   "cell_type": "markdown",
   "metadata": {},
   "source": [
    "#### Ejercicio 2. Combinar `map` y `filter` para detectar números perfectos:\n",
    "\n",
    "Un número es perfecto si la suma de sus divisores propios es igual a sí mismo. Dada una lista de números, usa `filter` para seleccionar los números perfectos, y usa `map` para devolver una lista con el mensaje `\"<número> es perfecto\"`.\n",
    "```python\n",
    "numeros = [6, 28, 496, 8128, 33550336, 7, 12]\n",
    "# Resultado esperado: ['6 es perfecto', '28 es perfecto', '496 es perfecto', '8128 es perfecto', '33550336 es perfecto']\n",
    "```\n"
   ]
  },
  {
   "cell_type": "code",
   "execution_count": 25,
   "metadata": {},
   "outputs": [
    {
     "name": "stdout",
     "output_type": "stream",
     "text": [
      "['6 es perfecto', '28 es perfecto', '496 es perfecto', '8128 es perfecto', '33550336 es perfecto']\n"
     ]
    }
   ],
   "source": [
    "numeros = [6, 28, 496, 8128, 33550336, 7, 12]\n",
    "\n",
    "def is_perfect(n):\n",
    "\n",
    "    suma = 0\n",
    "\n",
    "    for i in range(1, n // 2 + 1):\n",
    "        if n % i == 0:\n",
    "            suma += i\n",
    "\n",
    "    return n == suma\n",
    "\n",
    "lista_perfectos = list(filter(is_perfect, numeros))\n",
    "print(list(map(lambda x: str(x) + \" es perfecto\", lista_perfectos)))\n"
   ]
  },
  {
   "cell_type": "markdown",
   "metadata": {},
   "source": [
    "\n",
    "#### Ejercicio 3. Procesar una lista de fechas:\n",
    "\n",
    "Dada una lista de fechas en formato `YYYY-MM-DD`, usa `map` para convertirlas a una tupla `(año, mes, día)`. Luego, usa `filter` para seleccionar solo las fechas que caen en meses pares.\n",
    "```python\n",
    "fechas = ['2024-03-15', '2023-02-10', '2025-06-21', '2022-12-25']\n",
    "# Resultado esperado: [(2023, 2, 10), (2025, 6, 21), (2022, 12, 25)]\n",
    "```"
   ]
  },
  {
   "cell_type": "code",
   "execution_count": 34,
   "metadata": {},
   "outputs": [
    {
     "data": {
      "text/plain": [
       "[(2023, 2, 10), (2025, 6, 21), (2022, 12, 25)]"
      ]
     },
     "execution_count": 34,
     "metadata": {},
     "output_type": "execute_result"
    }
   ],
   "source": [
    "fechas = ['2024-03-15', '2023-02-10', '2025-06-21', '2022-12-25']\n",
    "\n",
    "def date2tup(lista_fechas):\n",
    "    \"\"\"\n",
    "    Convierte una lista de fechas en formato de cadena a tuplas numéricas y filtra las que corresponden a meses pares.\n",
    "\n",
    "    Parámetros:\n",
    "    lista_fechas (list): Lista de fechas en formato \"AAAA-MM-DD\".\n",
    "\n",
    "    Devuelve:\n",
    "    list: Lista de tuplas con las fechas donde el mes es un número par.\n",
    "    \"\"\"\n",
    "\n",
    "    # Convertimos las fechas a listas de tuplas numéricas\n",
    "    tuplas_fechas = list(map(lambda x: tuple(map(int, x.split(\"-\"))), lista_fechas))\n",
    "    # Filtramos los meses pares\n",
    "    tuplas_fechas_pares = list(filter(lambda x: x[1] % 2 == 0, tuplas_fechas))\n",
    "    return tuplas_fechas_pares\n",
    "\n",
    "date2tup(fechas)"
   ]
  },
  {
   "cell_type": "markdown",
   "metadata": {},
   "source": [
    "\n",
    "\n",
    "#### Ejercicio 4. Suma condicional de listas anidadas:\n",
    "\n",
    "   Dada una lista de listas de números, usa `map` y `filter` para seleccionar las sublistas donde todos los elementos sean pares. Luego, usa `reduce` para sumar todos los números de esas sublistas seleccionadas.\n",
    "   ```python\n",
    "   numeros = [[2, 4, 6], [1, 3, 5], [8, 10], [7, 9], [12, 14]]\n",
    "   # Resultado esperado: 2 + 4 + 6 + 8 + 10 + 12 + 14 = 56\n",
    "   ```"
   ]
  },
  {
   "cell_type": "code",
   "execution_count": 37,
   "metadata": {},
   "outputs": [
    {
     "name": "stdout",
     "output_type": "stream",
     "text": [
      "56\n"
     ]
    }
   ],
   "source": [
    "from functools import reduce\n",
    "numeros = [[2, 4, 6], [1, 3, 5], [8, 10], [7, 9], [12, 14]]\n",
    "\n",
    "sublistas_pares = list(filter(lambda sublista: all(map(lambda x: x % 2 == 0, sublista)) , numeros))\n",
    "\n",
    "suma_total = reduce(lambda acc, sublista: acc + sum(sublista), sublistas_pares, 0)\n",
    "\n",
    "print(suma_total)"
   ]
  },
  {
   "cell_type": "markdown",
   "metadata": {},
   "source": [
    "#### Ejercicio 5. Filtrar y agrupar datos de empleados:\n",
    "   Dada una lista de diccionarios que representan empleados con nombre, salario y departamento, usa `filter` para seleccionar los empleados cuyo salario sea mayor a 4000 y luego usa `map` para agrupar los nombres de empleados por departamento.\n",
    "   ```python\n",
    "   empleados = [\n",
    "       {'nombre': 'Ana', 'salario': 4500, 'departamento': 'TI'},\n",
    "       {'nombre': 'Luis', 'salario': 3500, 'departamento': 'Marketing'},\n",
    "       {'nombre': 'Pedro', 'salario': 5000, 'departamento': 'TI'},\n",
    "       {'nombre': 'Marta', 'salario': 4200, 'departamento': 'Ventas'}\n",
    "   ]\n",
    "   # Resultado esperado: {'TI': ['Ana', 'Pedro'], 'Ventas': ['Marta']}\n",
    "   ```"
   ]
  },
  {
   "cell_type": "code",
   "execution_count": 19,
   "metadata": {},
   "outputs": [
    {
     "name": "stdout",
     "output_type": "stream",
     "text": [
      "{'TI': ['Ana', 'Pedro'], 'Ventas': ['Marta']}\n"
     ]
    }
   ],
   "source": [
    "# No tengo ni idea de cómo se hace con map() 😥\n",
    "\n",
    "empleados = [\n",
    "    {'nombre': 'Ana', 'salario': 4500, 'departamento': 'TI'},\n",
    "    {'nombre': 'Luis', 'salario': 3500, 'departamento': 'Marketing'},\n",
    "    {'nombre': 'Pedro', 'salario': 5000, 'departamento': 'TI'},\n",
    "    {'nombre': 'Marta', 'salario': 4200, 'departamento': 'Ventas'}\n",
    "]\n",
    "\n",
    "# Filtramos el sueldo con filter\n",
    "sueldo_alto = list(filter(lambda x: x['salario'] > 4000, empleados))\n",
    "# Creamos un diccionario vacío que almacenará la solución\n",
    "agrupados = {}\n",
    "for empleado in sueldo_alto:\n",
    "    # Tomamos el departamento de cada empleado\n",
    "    dpto = empleado['departamento']\n",
    "    # Si el departamento no ha sido añadido creamos una lista nueva\n",
    "    if dpto not in agrupados:\n",
    "        agrupados[dpto] = []\n",
    "    # Añadimos el empleado a la lista\n",
    "    agrupados[dpto].append(empleado['nombre'])\n",
    "\n",
    "print(agrupados)\n"
   ]
  },
  {
   "cell_type": "markdown",
   "metadata": {},
   "source": [
    "#### Ejercicio 6. Eliminar duplicados sin usar `set`:\n",
    "\n",
    "   Dada una lista de números, usa `filter` y `map` para eliminar duplicados manteniendo el orden de aparición, sin usar estructuras como `set`.\n",
    "   ```python\n",
    "   numeros = [1, 2, 2, 3, 4, 4, 5]\n",
    "   # Resultado esperado: [1, 2, 3, 4, 5]\n",
    "   ```\n"
   ]
  },
  {
   "cell_type": "code",
   "execution_count": 33,
   "metadata": {},
   "outputs": [
    {
     "name": "stdout",
     "output_type": "stream",
     "text": [
      "[1, 2, 3, 4, 5]\n"
     ]
    }
   ],
   "source": [
    "# No sé hacerlo con map y filter, pero me he apañado\n",
    "\n",
    "numeros = [1, 2, 2, 3, 4, 4, 5]\n",
    "\n",
    "# Pasamos la lista a claves de un diccionario\n",
    "diccionario = dict.fromkeys(numeros)\n",
    "# Tomamos las claves, que deben ser únicas\n",
    "print(list(diccionario.keys()))"
   ]
  },
  {
   "cell_type": "markdown",
   "metadata": {
    "vscode": {
     "languageId": "plaintext"
    }
   },
   "source": [
    "#### Ejercicio 7. Calculadora de operaciones matemáticas sobre una lista:\n",
    "\n",
    "   Dada una lista de números y una lista de operaciones (representadas como cadenas, como 'sum', 'mul', 'div'), usa `map` para aplicar cada operación secuencialmente a los números. Por ejemplo, si la operación es 'sum', suma los elementos; si es 'mul', multiplícalos.\n",
    "   ```python\n",
    "   numeros = [2, 3, 4]\n",
    "   operaciones = ['sum', 'mul', 'div']\n",
    "   # Resltado esperado: (Suma: 9, Multiplicación: 24, División: Resultado de dividir 2 entre 3 entre 4)\n",
    "   ```"
   ]
  },
  {
   "cell_type": "code",
   "execution_count": 42,
   "metadata": {},
   "outputs": [
    {
     "name": "stdout",
     "output_type": "stream",
     "text": [
      "[[2, 3, 4], [2, 3, 4], [2, 3, 4]]\n"
     ]
    },
    {
     "data": {
      "text/plain": [
       "[9, 24, 0.16666666666666666]"
      ]
     },
     "execution_count": 42,
     "metadata": {},
     "output_type": "execute_result"
    }
   ],
   "source": [
    "from functools import reduce\n",
    "\n",
    "numeros = [2, 3, 4]\n",
    "operaciones = ['sum', 'mul', 'div']\n",
    "\n",
    "def operar(n, op):\n",
    "    \n",
    "    if op == 'sum':\n",
    "        return reduce(lambda x, y: x + y, n)\n",
    "    \n",
    "    elif op == 'mul':\n",
    "        return reduce(lambda x, y: x * y, n)\n",
    "    \n",
    "    elif op == 'div':\n",
    "        return reduce(lambda x, y: x / y, n)\n",
    "\n",
    "# Lista para matchear con las operaciones\n",
    "numeros_repetidos = [numeros] * len(operaciones)\n",
    "\n",
    "# Hacemos un mapeado de las operaciones con los números\n",
    "list(map(operar, numeros_repetidos, operaciones))\n"
   ]
  },
  {
   "cell_type": "markdown",
   "metadata": {},
   "source": [
    "#### Ejercicio 8. Filtros encadenados y transformación de datos:\n",
    "\n",
    "Dada una lista de diccionarios que representan productos con nombre, categoría y precio, usa `filter` para seleccionar los productos de una categoría específica. Luego, usa `map` para aplicar un descuento del 20% a los precios y transformar el diccionario en una nueva lista de tuplas `(nombre, nuevo_precio)`.\n",
    "\n",
    "```python\n",
    "productos = [\n",
    "    {'nombre': 'camisa', 'categoria': 'ropa', 'precio': 50},\n",
    "    {'nombre': 'pantalon', 'categoria': 'ropa', 'precio': 100},\n",
    "    {'nombre': 'libro', 'categoria': 'literatura', 'precio': 25}\n",
    "]\n",
    "# Resultado esperado: [('camisa', 40.0), ('pantalon', 80.0)]\n",
    "```"
   ]
  },
  {
   "cell_type": "code",
   "execution_count": 18,
   "metadata": {},
   "outputs": [
    {
     "name": "stdout",
     "output_type": "stream",
     "text": [
      "[{'nombre': 'camisa', 'categoria': 'ropa', 'precio': 50}, {'nombre': 'pantalon', 'categoria': 'ropa', 'precio': 100}]\n",
      "[{'nombre': 'camisa', 'categoria': 'ropa', 'precio': 40.0}, {'nombre': 'pantalon', 'categoria': 'ropa', 'precio': 80.0}]\n",
      "[('camisa', 40.0), ('pantalon', 80.0)]\n"
     ]
    }
   ],
   "source": [
    "productos = [\n",
    "    {'nombre': 'camisa', 'categoria': 'ropa', 'precio': 50},\n",
    "    {'nombre': 'pantalon', 'categoria': 'ropa', 'precio': 100},\n",
    "    {'nombre': 'libro', 'categoria': 'literatura', 'precio': 25}\n",
    "]\n",
    "\n",
    "cat = 'ropa'\n",
    "\n",
    "def actualizar_precio(dc):\n",
    "    # Descuento 20%\n",
    "    dc['precio'] = dc['precio'] * 0.8\n",
    "    return dc\n",
    "\n",
    "productos_ropa = list(filter(lambda x: x['categoria'] == cat, productos))\n",
    "print(productos_ropa)\n",
    "productos_ropa_rebajados = list(map(actualizar_precio , productos_ropa))\n",
    "print(productos_ropa_rebajados)\n",
    "\n",
    "lista_tuplas = list(map(lambda x: (x['nombre'], x['precio']) , productos_ropa_rebajados))\n",
    "print(lista_tuplas)"
   ]
  },
  {
   "cell_type": "markdown",
   "metadata": {},
   "source": [
    "\n",
    "#### Ejercicio 9. Combinación de listas con condiciones:\n",
    "\n",
    "   Dadas dos listas de números de igual longitud, usa `map` para generar una nueva lista de tuplas que combine los elementos de ambas listas. Si el elemento de la primera lista es mayor que el de la segunda, crea la tupla con `(elemento_lista1, None)`; si no, crea la tupla con `(None, elemento_lista2)`.\n",
    "   ```python\n",
    "   lista1 = [10, 5, 8]\n",
    "   lista2 = [3, 7, 8]\n",
    "   # Resultado esperado: [(10, None), (None, 7), (None, 8)]\n",
    "   ```"
   ]
  },
  {
   "cell_type": "code",
   "execution_count": 25,
   "metadata": {},
   "outputs": [
    {
     "name": "stdout",
     "output_type": "stream",
     "text": [
      "[(10, None), (None, 7), (None, 8)]\n"
     ]
    }
   ],
   "source": [
    "lista1 = [10, 5, 8]\n",
    "lista2 = [3, 7, 8]\n",
    "\n",
    "print(list(map(lambda x, y: (x, None) if x > y else (None, y), lista1, lista2)))"
   ]
  },
  {
   "cell_type": "markdown",
   "metadata": {},
   "source": [
    "#### 10. Filtrar y mapear diccionarios con reglas complejas:\n",
    "\n",
    "Dada una lista de diccionarios que representan ventas, filtra las ventas cuyo importe sea mayor a 500 y cuyo cliente esté marcado como 'premium'. Luego usa `map` para transformar cada venta en una cadena que diga `\"<cliente> realizó una compra de <importe>\"`.\n",
    "\n",
    "```python\n",
    "ventas = [\n",
    "    {'cliente': 'Carlos', 'importe': 600, 'premium': True},\n",
    "    {'cliente': 'Ana', 'importe': 450, 'premium': False},\n",
    "    {'cliente': 'Luis', 'importe': 800, 'premium': True},\n",
    "    {'cliente': 'Marta', 'importe': 300, 'premium': True}\n",
    "]\n",
    "# Resultado esperado: ['Carlos realizó una compra de 600', 'Luis realizó una compra de 800']\n",
    "```"
   ]
  },
  {
   "cell_type": "code",
   "execution_count": 27,
   "metadata": {},
   "outputs": [
    {
     "data": {
      "text/plain": [
       "['Carlos realizó una compra de 600', 'Luis realizó una compra de 800']"
      ]
     },
     "execution_count": 27,
     "metadata": {},
     "output_type": "execute_result"
    }
   ],
   "source": [
    "ventas = [\n",
    "    {'cliente': 'Carlos', 'importe': 600, 'premium': True},\n",
    "    {'cliente': 'Ana', 'importe': 450, 'premium': False},\n",
    "    {'cliente': 'Luis', 'importe': 800, 'premium': True},\n",
    "    {'cliente': 'Marta', 'importe': 300, 'premium': True}\n",
    "]\n",
    "\n",
    "clientes_vip = list(filter(lambda x: x['importe'] > 500 and x['premium'] , ventas))\n",
    "\n",
    "list(map(lambda x: f\"{x['cliente']} realizó una compra de {x['importe']}\" , clientes_vip))"
   ]
  },
  {
   "cell_type": "markdown",
   "metadata": {
    "vscode": {
     "languageId": "plaintext"
    }
   },
   "source": [
    "#### 11. Agrupación y fusión de intervalos superpuestos\n",
    "\n",
    "Dada una lista de intervalos en forma de tuplas (por ejemplo, `(inicio, fin)`), usa `reduce` para fusionar los intervalos que se superponen o tocan entre sí, y devolver una lista de intervalos fusionados.\n",
    "\n",
    "```python\n",
    "intervalos = [(1, 3), (2, 5), (6, 9), (8, 10)]\n",
    "\n",
    "# Resultado esperado: `[(1, 5), (6, 10)]`\n",
    "```"
   ]
  },
  {
   "cell_type": "code",
   "execution_count": 29,
   "metadata": {},
   "outputs": [
    {
     "data": {
      "text/plain": [
       "[(1, 5), (6, 10)]"
      ]
     },
     "execution_count": 29,
     "metadata": {},
     "output_type": "execute_result"
    }
   ],
   "source": [
    "from functools import reduce\n",
    "\n",
    "intervalos = [(1, 3), (2, 5), (6, 9), (8, 10)]\n",
    "\n",
    "lista = []\n",
    "\n",
    "def interval(x, y):\n",
    "    if len(x) == 0 or x[-1][1] < y[0]:\n",
    "        x.append(y)\n",
    "\n",
    "    else:\n",
    "        x[-1] = (x[-1][0], y[1])\n",
    "\n",
    "    return x\n",
    "\n",
    "\n",
    "reduce(interval, intervalos, lista)"
   ]
  },
  {
   "cell_type": "markdown",
   "metadata": {},
   "source": [
    "#### 12. Cálculo de la matriz de adyacencia acumulada\n",
    "\n",
    "Dada una lista de conexiones entre nodos de un grafo representados como pares `(nodo1, nodo2)`, usa `reduce` para generar una matriz de adyacencia acumulada que represente todas las conexiones en el grafo.\n",
    "\n",
    "```python\n",
    "conexiones = [(0, 1), (1, 2), (0, 2), (2, 3)]\n",
    "nodos = 4  # Número de nodos en el grafo\n",
    "```\n",
    "Usa `reduce` para generar una matriz `n x n` que indique las conexiones directas entre los nodos.\n"
   ]
  },
  {
   "cell_type": "code",
   "execution_count": 22,
   "metadata": {},
   "outputs": [
    {
     "name": "stdout",
     "output_type": "stream",
     "text": [
      "[[0, 0, 0, 0], [0, 0, 0, 0], [0, 0, 0, 0], [0, 0, 0, 0]]\n"
     ]
    },
    {
     "data": {
      "text/plain": [
       "[[0, 1, 1, 0], [1, 0, 1, 0], [1, 1, 0, 1], [0, 0, 1, 0]]"
      ]
     },
     "execution_count": 22,
     "metadata": {},
     "output_type": "execute_result"
    }
   ],
   "source": [
    "from functools import reduce\n",
    "\n",
    "conexiones = [(0, 1), (1, 2), (0, 2), (2, 3)]\n",
    "nodos = 4  # Número de nodos en el grafo\n",
    "\n",
    "matriz = [ [0 for _ in range(4)] for _ in range(4) ]\n",
    "print(matriz)\n",
    "\n",
    "def actualizar_matriz(m, con):\n",
    "    \n",
    "    m[con[0]][con[1]] += 1\n",
    "    m[con[1]][con[0]] += 1\n",
    "    return m\n",
    "\n",
    "reduce(actualizar_matriz , conexiones, matriz)"
   ]
  },
  {
   "cell_type": "markdown",
   "metadata": {
    "vscode": {
     "languageId": "plaintext"
    }
   },
   "source": [
    "#### 13. Cálculo del promedio ponderado sobre una secuencia de datos\n",
    "\n",
    "Dada una lista de tuplas donde el primer elemento es el valor y el segundo es el peso de ese valor, usa `reduce` para calcular el promedio ponderado de los valores.\n",
    "\n",
    "```python\n",
    "datos = [(70, 1.5), (80, 2.0), (90, 3.0)]\n",
    "\n",
    "# Resultado esperado: el promedio ponderado de los valores basado en los pesos. 82.31.\n",
    "```\n",
    "\n"
   ]
  },
  {
   "cell_type": "code",
   "execution_count": 37,
   "metadata": {},
   "outputs": [
    {
     "data": {
      "text/plain": [
       "178.33333333333334"
      ]
     },
     "execution_count": 37,
     "metadata": {},
     "output_type": "execute_result"
    }
   ],
   "source": [
    "from functools import reduce\n",
    "\n",
    "datos = [(70, 1.5), (80, 2.0), (90, 3.0)]\n",
    "\n",
    "suma_ponderada = reduce(lambda x, y: x + y[0]*y[1], datos, 0)\n",
    "suma_ponderada / len(datos)"
   ]
  }
 ],
 "metadata": {
  "kernelspec": {
   "display_name": "test",
   "language": "python",
   "name": "python3"
  },
  "language_info": {
   "codemirror_mode": {
    "name": "ipython",
    "version": 3
   },
   "file_extension": ".py",
   "mimetype": "text/x-python",
   "name": "python",
   "nbconvert_exporter": "python",
   "pygments_lexer": "ipython3",
   "version": "3.12.4"
  }
 },
 "nbformat": 4,
 "nbformat_minor": 2
}
